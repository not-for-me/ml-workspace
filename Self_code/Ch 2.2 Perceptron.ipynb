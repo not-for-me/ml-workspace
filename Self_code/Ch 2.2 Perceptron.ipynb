{
 "cells": [
  {
   "cell_type": "code",
   "execution_count": 2,
   "metadata": {
    "ExecuteTime": {
     "end_time": "2019-10-06T13:10:46.817872Z",
     "start_time": "2019-10-06T13:10:46.814553Z"
    }
   },
   "outputs": [],
   "source": [
    "import numpy as np"
   ]
  },
  {
   "cell_type": "code",
   "execution_count": 6,
   "metadata": {
    "ExecuteTime": {
     "end_time": "2019-10-08T21:29:50.419795Z",
     "start_time": "2019-10-08T21:29:50.413639Z"
    },
    "code_folding": []
   },
   "outputs": [
    {
     "name": "stdout",
     "output_type": "stream",
     "text": [
      "[ 0.08121727 -0.03058782 -0.02640859]\n"
     ]
    }
   ],
   "source": [
    "# check rgen.normal\n",
    "\n",
    "rgen = np.random.RandomState(1)\n",
    "val = rgen.normal(loc=0.0, scale=0.05, size=3)\n",
    "print(val)"
   ]
  },
  {
   "cell_type": "code",
   "execution_count": 30,
   "metadata": {
    "ExecuteTime": {
     "end_time": "2019-10-08T21:44:12.485893Z",
     "start_time": "2019-10-08T21:44:12.470271Z"
    }
   },
   "outputs": [],
   "source": [
    "class Perceptron:\n",
    "    \"\"\"Perceptron classifier\n",
    "    \n",
    "    \"\"\"\n",
    "    \n",
    "    def __init__(self, eta=0.01, n_iter=50, random_state=1):\n",
    "        self.eta = eta\n",
    "        self.n_iter = n_iter\n",
    "        self.random_state = random_state\n",
    "    \n",
    "    def fit(self, X, y):\n",
    "        \"\"\"Train data\n",
    "        \n",
    "        \"\"\"\n",
    "        \n",
    "        rgen = np.random.RandomState(self.random_state)\n",
    "        self.w_ = rgen.normal(loc=0.0, scale=0.01, size=1 + X.shape[1])\n",
    "        \n",
    "        self.errors_ = []\n",
    "        \n",
    "        for _ in range(self.n_iter):\n",
    "            errors = 0\n",
    "            for xi, target in zip(X, y):\n",
    "                update = self.eta * (target - self.predict(xi))\n",
    "                self.w_[1:] += update * xi\n",
    "                self.w_[0] += update\n",
    "                errors += int(update != 0.0)\n",
    "            self.errors_.append(errors)\n",
    "        return self\n",
    "    \n",
    "    def net_input(self, X):\n",
    "        return np.dot(X, self.w_[1:]) + self.w_[0]\n",
    "    \n",
    "    def predict(self, X):\n",
    "        return np.where(self.net_input(X) >= 0.0, 1, -1)"
   ]
  },
  {
   "cell_type": "code",
   "execution_count": 8,
   "metadata": {
    "ExecuteTime": {
     "end_time": "2019-10-08T21:34:40.038242Z",
     "start_time": "2019-10-08T21:34:38.953212Z"
    }
   },
   "outputs": [
    {
     "data": {
      "text/html": [
       "<div>\n",
       "<style scoped>\n",
       "    .dataframe tbody tr th:only-of-type {\n",
       "        vertical-align: middle;\n",
       "    }\n",
       "\n",
       "    .dataframe tbody tr th {\n",
       "        vertical-align: top;\n",
       "    }\n",
       "\n",
       "    .dataframe thead th {\n",
       "        text-align: right;\n",
       "    }\n",
       "</style>\n",
       "<table border=\"1\" class=\"dataframe\">\n",
       "  <thead>\n",
       "    <tr style=\"text-align: right;\">\n",
       "      <th></th>\n",
       "      <th>0</th>\n",
       "      <th>1</th>\n",
       "      <th>2</th>\n",
       "      <th>3</th>\n",
       "      <th>4</th>\n",
       "    </tr>\n",
       "  </thead>\n",
       "  <tbody>\n",
       "    <tr>\n",
       "      <td>145</td>\n",
       "      <td>6.7</td>\n",
       "      <td>3.0</td>\n",
       "      <td>5.2</td>\n",
       "      <td>2.3</td>\n",
       "      <td>Iris-virginica</td>\n",
       "    </tr>\n",
       "    <tr>\n",
       "      <td>146</td>\n",
       "      <td>6.3</td>\n",
       "      <td>2.5</td>\n",
       "      <td>5.0</td>\n",
       "      <td>1.9</td>\n",
       "      <td>Iris-virginica</td>\n",
       "    </tr>\n",
       "    <tr>\n",
       "      <td>147</td>\n",
       "      <td>6.5</td>\n",
       "      <td>3.0</td>\n",
       "      <td>5.2</td>\n",
       "      <td>2.0</td>\n",
       "      <td>Iris-virginica</td>\n",
       "    </tr>\n",
       "    <tr>\n",
       "      <td>148</td>\n",
       "      <td>6.2</td>\n",
       "      <td>3.4</td>\n",
       "      <td>5.4</td>\n",
       "      <td>2.3</td>\n",
       "      <td>Iris-virginica</td>\n",
       "    </tr>\n",
       "    <tr>\n",
       "      <td>149</td>\n",
       "      <td>5.9</td>\n",
       "      <td>3.0</td>\n",
       "      <td>5.1</td>\n",
       "      <td>1.8</td>\n",
       "      <td>Iris-virginica</td>\n",
       "    </tr>\n",
       "  </tbody>\n",
       "</table>\n",
       "</div>"
      ],
      "text/plain": [
       "       0    1    2    3               4\n",
       "145  6.7  3.0  5.2  2.3  Iris-virginica\n",
       "146  6.3  2.5  5.0  1.9  Iris-virginica\n",
       "147  6.5  3.0  5.2  2.0  Iris-virginica\n",
       "148  6.2  3.4  5.4  2.3  Iris-virginica\n",
       "149  5.9  3.0  5.1  1.8  Iris-virginica"
      ]
     },
     "execution_count": 8,
     "metadata": {},
     "output_type": "execute_result"
    }
   ],
   "source": [
    "import pandas as pd\n",
    "\n",
    "df = pd.read_csv('https://archive.ics.uci.edu/ml/machine-learning-databases/iris/iris.data', header=None)\n",
    "\n",
    "df.tail()"
   ]
  },
  {
   "cell_type": "code",
   "execution_count": 24,
   "metadata": {
    "ExecuteTime": {
     "end_time": "2019-10-08T21:40:02.541793Z",
     "start_time": "2019-10-08T21:40:02.534542Z"
    }
   },
   "outputs": [
    {
     "name": "stdout",
     "output_type": "stream",
     "text": [
      "y shape (100,)\n"
     ]
    }
   ],
   "source": [
    "import matplotlib.pyplot as plt\n",
    "import numpy as np\n",
    "\n",
    "y = df.iloc[:100, 4].values\n",
    "y = np.where(y == 'Iris-setosa', -1, 1)\n",
    "\n",
    "print(\"y shape\", y.shape)"
   ]
  },
  {
   "cell_type": "code",
   "execution_count": 25,
   "metadata": {
    "ExecuteTime": {
     "end_time": "2019-10-08T21:40:05.426680Z",
     "start_time": "2019-10-08T21:40:05.418563Z"
    }
   },
   "outputs": [
    {
     "name": "stdout",
     "output_type": "stream",
     "text": [
      "X shape: (100, 2)\n",
      "[[5.1 1.4]\n",
      " [4.9 1.4]\n",
      " [4.7 1.3]\n",
      " [4.6 1.5]\n",
      " [5.  1.4]]\n"
     ]
    }
   ],
   "source": [
    "X= df.iloc[:100, [0,2]].values\n",
    "\n",
    "print(\"X shape:\", X.shape)\n",
    "print(X[0:5])"
   ]
  },
  {
   "cell_type": "code",
   "execution_count": 26,
   "metadata": {
    "ExecuteTime": {
     "end_time": "2019-10-08T21:42:09.052174Z",
     "start_time": "2019-10-08T21:42:08.406011Z"
    }
   },
   "outputs": [
    {
     "data": {
      "image/png": "[encoded data removed]",
      "text/plain": [
       "<Figure size 432x288 with 1 Axes>"
      ]
     },
     "metadata": {
      "needs_background": "light"
     },
     "output_type": "display_data"
    }
   ],
   "source": [
    "plt.scatter(X[:50, 0], X[:50, 1], color='pink', marker='^', label='setosa')\n",
    "plt.scatter(X[50:, 0], X[50:, 1], color='green', marker='*', label='versicolor')\n",
    "\n",
    "plt.xlabel('sepal length [cm]')\n",
    "plt.ylabel('petal length [cm]')\n",
    "plt.legend(loc='upper left')\n",
    "\n",
    "plt.show()"
   ]
  },
  {
   "cell_type": "code",
   "execution_count": 66,
   "metadata": {
    "ExecuteTime": {
     "end_time": "2019-10-09T03:39:27.408931Z",
     "start_time": "2019-10-09T03:39:27.370878Z"
    }
   },
   "outputs": [
    {
     "data": {
      "text/plain": [
       "<__main__.Perceptron at 0x7fb01d878630>"
      ]
     },
     "execution_count": 66,
     "metadata": {},
     "output_type": "execute_result"
    }
   ],
   "source": [
    "percept = Perceptron(eta=0.1, n_iter=20)\n",
    "\n",
    "percept.fit(X,y)"
   ]
  },
  {
   "cell_type": "code",
   "execution_count": 67,
   "metadata": {
    "ExecuteTime": {
     "end_time": "2019-10-09T03:39:28.057007Z",
     "start_time": "2019-10-09T03:39:28.051384Z"
    }
   },
   "outputs": [
    {
     "name": "stdout",
     "output_type": "stream",
     "text": [
      "[1, 3, 3, 2, 1, 0, 0, 0, 0, 0, 0, 0, 0, 0, 0, 0, 0, 0, 0, 0]\n",
      "len of errors: 20\n"
     ]
    }
   ],
   "source": [
    "print(percept.errors_)\n",
    "print(\"len of errors:\", len(percept.errors_))"
   ]
  },
  {
   "cell_type": "code",
   "execution_count": 68,
   "metadata": {
    "ExecuteTime": {
     "end_time": "2019-10-09T03:39:29.177996Z",
     "start_time": "2019-10-09T03:39:29.031502Z"
    }
   },
   "outputs": [
    {
     "name": "stdout",
     "output_type": "stream",
     "text": [
      "range(1, 21)\n"
     ]
    },
    {
     "data": {
      "image/png": "[encoded data removed]",
      "text/plain": [
       "<Figure size 432x288 with 1 Axes>"
      ]
     },
     "metadata": {
      "needs_background": "light"
     },
     "output_type": "display_data"
    }
   ],
   "source": [
    "X_axis = range(1, len(percept.errors_) + 1)\n",
    "print(X_axis)\n",
    "\n",
    "plt.plot(X_axis, percept.errors_, color='grey', marker='x', label='error')\n",
    "plt.xlabel('Epochs')\n",
    "plt.ylabel('Number of errors')\n",
    "plt.legend(loc='upper right')\n",
    "plt.show()"
   ]
  },
  {
   "cell_type": "code",
   "execution_count": 70,
   "metadata": {
    "ExecuteTime": {
     "end_time": "2019-10-09T03:40:43.351683Z",
     "start_time": "2019-10-09T03:40:43.326641Z"
    }
   },
   "outputs": [
    {
     "name": "stdout",
     "output_type": "stream",
     "text": [
      "[-1  1]\n",
      "('red', 'blue')\n",
      "X1 min: 3.3 X1 max: 8.0 X2 min: 0.0 X2 max: 6.1\n",
      "xx1_r shape: (3,)\n",
      "xx1_r [3.3 5.3 7.3]\n",
      "xx2_r shape: (4,)\n",
      "xx2_r [0. 2. 4. 6.]\n",
      "meshgrided\n",
      "xx1 shape: (4, 3)\n",
      "xx1 [[3.3 5.3 7.3]\n",
      " [3.3 5.3 7.3]\n",
      " [3.3 5.3 7.3]\n",
      " [3.3 5.3 7.3]]\n",
      "xx2 shape: (4, 3)\n",
      "xx2 [[0. 0. 0.]\n",
      " [2. 2. 2.]\n",
      " [4. 4. 4.]\n",
      " [6. 6. 6.]]\n",
      "xx1.ravel() [3.3 5.3 7.3 3.3 5.3 7.3 3.3 5.3 7.3 3.3 5.3 7.3]\n",
      "xx1.ravel() shape (12,)\n",
      "xx2.ravel() [0. 0. 0. 2. 2. 2. 4. 4. 4. 6. 6. 6.]\n",
      "xx2.ravel() shape (12,)\n",
      "mesh_net_in shape: (12, 2)\n",
      "Z shape: (12,)\n",
      "Z shape after reshape: (4, 3)\n"
     ]
    }
   ],
   "source": [
    "from matplotlib.colors import ListedColormap\n",
    "import numpy as np\n",
    "\n",
    "markers = ('s', 'x', 'o', '^', 'v')\n",
    "colors = ('red', 'blue', 'lightgreen', 'gray', 'cyan')\n",
    "resolution = 2\n",
    "print(np.unique(y))\n",
    "print(colors[:len(np.unique(y))])\n",
    "\n",
    "cmap = ListedColormap(colors[:len(np.unique(y))])\n",
    "\n",
    "X1_min, X1_max = X[:, 0].min() - 1, X[:, 0].max() + 1\n",
    "X2_min, X2_max = X[:, 1].min() - 1, X[:, 1].max() + 1\n",
    "print(\"X1 min:\", X1_min, \"X1 max:\", X1_max, \"X2 min:\", X2_min, \"X2 max:\", X2_max)\n",
    "\n",
    "xx1_r = np.arange(X1_min, X1_max, resolution)\n",
    "xx2_r = np.arange(X2_min, X2_max, resolution)\n",
    "\n",
    "\n",
    "print(\"xx1_r shape:\", xx1_r.shape)\n",
    "print(\"xx1_r\", xx1_r)\n",
    "print(\"xx2_r shape:\", xx2_r.shape)\n",
    "print(\"xx2_r\", xx2_r)\n",
    "\n",
    "xx1, xx2 = np.meshgrid(xx1_r, xx2_r)\n",
    "\n",
    "print(\"meshgrided\")\n",
    "print(\"xx1 shape:\", xx1.shape)\n",
    "print(\"xx1\", xx1)\n",
    "\n",
    "print(\"xx2 shape:\", xx2.shape)\n",
    "print(\"xx2\", xx2)\n",
    "\n",
    "print(\"xx1.ravel()\", xx1.ravel())\n",
    "print(\"xx1.ravel() shape\", xx1.ravel().shape)\n",
    "print(\"xx2.ravel()\", xx2.ravel())\n",
    "print(\"xx2.ravel() shape\", xx2.ravel().shape)\n",
    "\n",
    "mesh_net_in = np.array([xx1.ravel(), xx2.ravel()]).T\n",
    "print(\"mesh_net_in shape:\", mesh_net_in.shape)\n",
    "\n",
    "Z = percept.predict(mesh_net_in)\n",
    "print(\"Z shape:\", Z.shape)\n",
    "Z = Z.reshape(xx1.shape)\n",
    "print(\"Z shape after reshape:\", Z.shape)"
   ]
  },
  {
   "cell_type": "code",
   "execution_count": 81,
   "metadata": {
    "ExecuteTime": {
     "end_time": "2019-10-09T03:43:15.090193Z",
     "start_time": "2019-10-09T03:43:15.077342Z"
    }
   },
   "outputs": [],
   "source": [
    "from matplotlib.colors import ListedColormap\n",
    "\n",
    "def plot_decision_regions(X, y, classifier, resolution=0.02):\n",
    "    markers = ('s', 'x', 'o', '^', 'v')\n",
    "    colors = ('red', 'blue', 'lightgreen', 'gray', 'cyan')\n",
    "\n",
    "    print(np.unique(y))\n",
    "    print(colors[:len(np.unique(y))])\n",
    "\n",
    "    cmap = ListedColormap(colors[:len(np.unique(y))])\n",
    "    \n",
    "    X1_min, X1_max = X[:, 0].min() - 1, X[:, 0].max() + 1\n",
    "    X2_min, X2_max = X[:, 1].min() - 1, X[:, 1].max() + 1\n",
    "    xx1, xx2 = np.meshgrid(np.arange(X1_min, X1_max, resolution),\n",
    "                              np.arange(X2_min, X2_max, resolution))\n",
    "    \n",
    "    Z = classifier.predict(np.array([xx1.ravel(), xx2.ravel()]).T)\n",
    "    Z = Z.reshape(xx1.shape)\n",
    "    plt.contourf(xx1, xx2, Z, alpha=0.3, cmap=cmap)\n",
    "    plt.xlim(xx1.min(), xx1.max())\n",
    "    plt.ylim(xx2.min(), xx2.max())\n",
    "    \n",
    "    for idx, cl in enumerate(np.unique(y)):\n",
    "        plt.scatter(x=X[y==cl, 0],\n",
    "                   y=X[y == cl, 1],\n",
    "                   alpha=0.8,\n",
    "                   c=colors[idx],\n",
    "                   marker=markers[idx],\n",
    "                   label=cl,\n",
    "                   edgecolor='black')"
   ]
  },
  {
   "cell_type": "code",
   "execution_count": 82,
   "metadata": {
    "ExecuteTime": {
     "end_time": "2019-10-09T03:43:16.141041Z",
     "start_time": "2019-10-09T03:43:15.995624Z"
    }
   },
   "outputs": [
    {
     "name": "stdout",
     "output_type": "stream",
     "text": [
      "[-1  1]\n",
      "('red', 'blue')\n"
     ]
    },
    {
     "data": {
      "image/png": "[encoded data removed]",
      "text/plain": [
       "<Figure size 432x288 with 1 Axes>"
      ]
     },
     "metadata": {
      "needs_background": "light"
     },
     "output_type": "display_data"
    }
   ],
   "source": [
    "plot_decision_regions(X, y, classifier=percept)\n",
    "plt.xlabel('sepal length [cm]')\n",
    "plt.ylabel('petal length [cm]')\n",
    "plt.legend(loc='upper left')\n",
    "plt.show()"
   ]
  },
  {
   "cell_type": "code",
   "execution_count": null,
   "metadata": {},
   "outputs": [],
   "source": []
  }
 ],
 "metadata": {
  "kernelspec": {
   "display_name": "Python 3",
   "language": "python",
   "name": "python3"
  },
  "language_info": {
   "codemirror_mode": {
    "name": "ipython",
    "version": 3
   },
   "file_extension": ".py",
   "mimetype": "text/x-python",
   "name": "python",
   "nbconvert_exporter": "python",
   "pygments_lexer": "ipython3",
   "version": "3.7.4"
  },
  "toc": {
   "base_numbering": 1,
   "nav_menu": {},
   "number_sections": true,
   "sideBar": true,
   "skip_h1_title": false,
   "title_cell": "Table of Contents",
   "title_sidebar": "Contents",
   "toc_cell": false,
   "toc_position": {},
   "toc_section_display": true,
   "toc_window_display": false
  },
  "varInspector": {
   "cols": {
    "lenName": 16,
    "lenType": 16,
    "lenVar": 40
   },
   "kernels_config": {
    "python": {
     "delete_cmd_postfix": "",
     "delete_cmd_prefix": "del ",
     "library": "var_list.py",
     "varRefreshCmd": "print(var_dic_list())"
    },
    "r": {
     "delete_cmd_postfix": ") ",
     "delete_cmd_prefix": "rm(",
     "library": "var_list.r",
     "varRefreshCmd": "cat(var_dic_list()) "
    }
   },
   "types_to_exclude": [
    "module",
    "function",
    "builtin_function_or_method",
    "instance",
    "_Feature"
   ],
   "window_display": false
  }
 },
 "nbformat": 4,
 "nbformat_minor": 2
}
