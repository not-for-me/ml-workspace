{
 "cells": [
  {
   "cell_type": "code",
   "execution_count": 6,
   "metadata": {
    "ExecuteTime": {
     "end_time": "2019-10-14T12:23:46.939347Z",
     "start_time": "2019-10-14T12:23:46.273392Z"
    }
   },
   "outputs": [
    {
     "name": "stdout",
     "output_type": "stream",
     "text": [
      "The scikit-learn version is 0.21.3.\n",
      "<class 'sklearn.utils.Bunch'>\n",
      "X type: <class 'numpy.ndarray'> X shape: (150, 2) X ndim: 2\n",
      "Y type: <class 'numpy.ndarray'> Y shape: (150,) Y ndim: 1\n",
      "class lables: [0 1 2]\n"
     ]
    }
   ],
   "source": [
    "from sklearn import datasets\n",
    "import numpy as np\n",
    "\n",
    "import sklearn\n",
    "\n",
    "print('The scikit-learn version is {}.'.format(sklearn.__version__))\n",
    "\n",
    "\n",
    "iris = datasets.load_iris()\n",
    "print(type(iris))\n",
    "X = iris.data[:, [2,3]]\n",
    "Y = iris.target\n",
    "\n",
    "print(\"X type:\", type(X), \"X shape:\", X.shape, \"X ndim:\", np.ndim(X))\n",
    "print(\"Y type:\", type(Y), \"Y shape:\", Y.shape, \"Y ndim:\", np.ndim(Y))\n",
    "print(\"class lables:\", np.unique(Y))"
   ]
  },
  {
   "cell_type": "code",
   "execution_count": 7,
   "metadata": {
    "ExecuteTime": {
     "end_time": "2019-10-14T12:23:49.201123Z",
     "start_time": "2019-10-14T12:23:49.186256Z"
    }
   },
   "outputs": [],
   "source": [
    "from sklearn.model_selection import train_test_split\n",
    "X_train, X_test, Y_train, Y_test = train_test_split(X, Y, test_size=0.3, random_state = 1,stratify=Y)"
   ]
  },
  {
   "cell_type": "code",
   "execution_count": 8,
   "metadata": {
    "ExecuteTime": {
     "end_time": "2019-10-14T12:23:50.072224Z",
     "start_time": "2019-10-14T12:23:50.065160Z"
    }
   },
   "outputs": [
    {
     "name": "stdout",
     "output_type": "stream",
     "text": [
      "Y label count: [50 50 50]\n",
      "Y train label count: [35 35 35]\n",
      "Y test label count: [15 15 15]\n"
     ]
    }
   ],
   "source": [
    "print(\"Y label count:\", np.bincount(Y))\n",
    "print(\"Y train label count:\", np.bincount(Y_train))\n",
    "print(\"Y test label count:\", np.bincount(Y_test))"
   ]
  },
  {
   "cell_type": "code",
   "execution_count": 9,
   "metadata": {
    "ExecuteTime": {
     "end_time": "2019-10-14T12:23:50.933547Z",
     "start_time": "2019-10-14T12:23:50.928398Z"
    }
   },
   "outputs": [],
   "source": [
    "from sklearn.preprocessing import StandardScaler\n",
    "\n",
    "sc = StandardScaler()\n",
    "sc.fit(X_train)\n",
    "X_train_std = sc.transform(X_train)\n",
    "X_test_std = sc.transform(X_test) # 테스트 셋도 훈련셋에 맞춰서 동일하게 표준화하도록 한것"
   ]
  },
  {
   "cell_type": "code",
   "execution_count": 10,
   "metadata": {
    "ExecuteTime": {
     "end_time": "2019-10-14T12:23:51.550543Z",
     "start_time": "2019-10-14T12:23:51.529974Z"
    }
   },
   "outputs": [
    {
     "data": {
      "text/plain": [
       "Perceptron(alpha=0.0001, class_weight=None, early_stopping=False, eta0=0.01,\n",
       "           fit_intercept=True, max_iter=40, n_iter_no_change=5, n_jobs=None,\n",
       "           penalty=None, random_state=1, shuffle=True, tol=0.001,\n",
       "           validation_fraction=0.1, verbose=0, warm_start=False)"
      ]
     },
     "execution_count": 10,
     "metadata": {},
     "output_type": "execute_result"
    }
   ],
   "source": [
    "from sklearn.linear_model import Perceptron\n",
    "\n",
    "ppn = Perceptron(max_iter=40, eta0=0.01, tol=1e-3, random_state=1)\n",
    "ppn.fit(X_train_std, Y_train)"
   ]
  },
  {
   "cell_type": "code",
   "execution_count": 11,
   "metadata": {
    "ExecuteTime": {
     "end_time": "2019-10-14T12:23:54.205212Z",
     "start_time": "2019-10-14T12:23:54.068319Z"
    }
   },
   "outputs": [
    {
     "name": "stdout",
     "output_type": "stream",
     "text": [
      "Error sample count: 2\n"
     ]
    }
   ],
   "source": [
    "Y_pred = ppn.predict(X_test_std)\n",
    "print(\"Error sample count: %d\" % (Y_test != Y_pred).sum())"
   ]
  },
  {
   "cell_type": "code",
   "execution_count": 12,
   "metadata": {
    "ExecuteTime": {
     "end_time": "2019-10-14T12:23:54.397096Z",
     "start_time": "2019-10-14T12:23:54.393060Z"
    }
   },
   "outputs": [
    {
     "name": "stdout",
     "output_type": "stream",
     "text": [
      "accuracy score: 0.96\n"
     ]
    }
   ],
   "source": [
    "from sklearn.metrics import accuracy_score\n",
    "print(\"accuracy score: %.2f\" % accuracy_score(Y_test, Y_pred))"
   ]
  },
  {
   "cell_type": "code",
   "execution_count": 13,
   "metadata": {
    "ExecuteTime": {
     "end_time": "2019-10-14T12:23:54.750791Z",
     "start_time": "2019-10-14T12:23:54.744563Z"
    }
   },
   "outputs": [
    {
     "name": "stdout",
     "output_type": "stream",
     "text": [
      "accuracy: 0.96\n"
     ]
    }
   ],
   "source": [
    "print('accuracy: %.2f' % ppn.score(X_test_std, Y_test))"
   ]
  },
  {
   "cell_type": "code",
   "execution_count": 18,
   "metadata": {
    "ExecuteTime": {
     "end_time": "2019-10-14T12:24:41.310096Z",
     "start_time": "2019-10-14T12:24:41.294376Z"
    }
   },
   "outputs": [],
   "source": [
    "from matplotlib.colors import ListedColormap\n",
    "import matplotlib.pyplot as plt\n",
    "\n",
    "from matplotlib.colors import ListedColormap\n",
    "\n",
    "def plot_decision_regions(X, y, classifier, test_idx=None, resolution=0.02):\n",
    "    markers = ('s', 'x', 'o', '^', 'v')\n",
    "    colors = ('red', 'blue', 'lightgreen', 'gray', 'cyan')\n",
    "\n",
    "    cmap = ListedColormap(colors[:len(np.unique(y))])\n",
    "    \n",
    "    X1_min, X1_max = X[:, 0].min() - 1, X[:, 0].max() + 1\n",
    "    X2_min, X2_max = X[:, 1].min() - 1, X[:, 1].max() + 1\n",
    "    xx1, xx2 = np.meshgrid(np.arange(X1_min, X1_max, resolution),\n",
    "                              np.arange(X2_min, X2_max, resolution))\n",
    "    \n",
    "    Z = classifier.predict(np.array([xx1.ravel(), xx2.ravel()]).T)\n",
    "    Z = Z.reshape(xx1.shape)\n",
    "    plt.contourf(xx1, xx2, Z, alpha=0.3, cmap=cmap)\n",
    "    plt.xlim(xx1.min(), xx1.max())\n",
    "    plt.ylim(xx2.min(), xx2.max())\n",
    "    \n",
    "    for idx, cl in enumerate(np.unique(y)):\n",
    "        plt.scatter(x=X[y==cl, 0],\n",
    "                   y=X[y == cl, 1],\n",
    "                   alpha=0.8,\n",
    "                   c=colors[idx],\n",
    "                   marker=markers[idx],\n",
    "                   label=cl,\n",
    "                   edgecolor='black')\n",
    "    if test_idx:\n",
    "        X_test, Y_test = X[test_idx, :], Y[test_idx]\n",
    "        \n",
    "        plt.scatter(X_test[:, 0], X_test[:, 1],\n",
    "                    c='', edgecolor='black', alpha=1.0,\n",
    "                   linewidth=1, marker='o',\n",
    "                   s=100, label='test set')"
   ]
  },
  {
   "cell_type": "code",
   "execution_count": 20,
   "metadata": {
    "ExecuteTime": {
     "end_time": "2019-10-14T12:24:58.370297Z",
     "start_time": "2019-10-14T12:24:58.184499Z"
    }
   },
   "outputs": [
    {
     "name": "stdout",
     "output_type": "stream",
     "text": [
      "(150, 2)\n",
      "(150, 2)\n"
     ]
    },
    {
     "data": {
      "image/png": "[encoded data removed]",
      "text/plain": [
       "<Figure size 432x288 with 1 Axes>"
      ]
     },
     "metadata": {
      "needs_background": "light"
     },
     "output_type": "display_data"
    }
   ],
   "source": [
    "X_combined_std = np.vstack((X_train_std, X_test_std))\n",
    "Y_combined = np.hstack((Y_train, Y_test))\n",
    "plot_decision_regions(X=X_combined_std,\n",
    "                     y=Y_combined,\n",
    "                     classifier=ppn,\n",
    "                     test_idx=range(105,150))\n",
    "\n",
    "plt.xlabel('petal length [standardized]')\n",
    "plt.ylabel('petal width [standardized]')\n",
    "plt.legend(loc='upper left')\n",
    "plt.tight_layout()\n",
    "plt.show()"
   ]
  },
  {
   "cell_type": "code",
   "execution_count": null,
   "metadata": {},
   "outputs": [],
   "source": []
  }
 ],
 "metadata": {
  "kernelspec": {
   "display_name": "Python 3",
   "language": "python",
   "name": "python3"
  },
  "language_info": {
   "codemirror_mode": {
    "name": "ipython",
    "version": 3
   },
   "file_extension": ".py",
   "mimetype": "text/x-python",
   "name": "python",
   "nbconvert_exporter": "python",
   "pygments_lexer": "ipython3",
   "version": "3.6.9"
  },
  "toc": {
   "base_numbering": 1,
   "nav_menu": {},
   "number_sections": true,
   "sideBar": true,
   "skip_h1_title": false,
   "title_cell": "Table of Contents",
   "title_sidebar": "Contents",
   "toc_cell": false,
   "toc_position": {},
   "toc_section_display": true,
   "toc_window_display": false
  },
  "varInspector": {
   "cols": {
    "lenName": 16,
    "lenType": 16,
    "lenVar": 40
   },
   "kernels_config": {
    "python": {
     "delete_cmd_postfix": "",
     "delete_cmd_prefix": "del ",
     "library": "var_list.py",
     "varRefreshCmd": "print(var_dic_list())"
    },
    "r": {
     "delete_cmd_postfix": ") ",
     "delete_cmd_prefix": "rm(",
     "library": "var_list.r",
     "varRefreshCmd": "cat(var_dic_list()) "
    }
   },
   "types_to_exclude": [
    "module",
    "function",
    "builtin_function_or_method",
    "instance",
    "_Feature"
   ],
   "window_display": false
  }
 },
 "nbformat": 4,
 "nbformat_minor": 2
}
